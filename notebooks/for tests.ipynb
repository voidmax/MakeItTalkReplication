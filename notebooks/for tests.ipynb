{
 "cells": [
  {
   "cell_type": "code",
   "execution_count": null,
   "metadata": {},
   "outputs": [],
   "source": []
  },
  {
   "cell_type": "code",
   "execution_count": null,
   "metadata": {},
   "outputs": [],
   "source": []
  },
  {
   "cell_type": "code",
   "execution_count": 22,
   "metadata": {},
   "outputs": [],
   "source": [
    "# !mkdir ../checkpoints/audio\n",
    "# !pip install gdown\n",
    "# !gdown -O ../checkpoints/audio/ckpt_autovc.pth https://drive.google.com/uc?id=1ZiwPp_h62LtjU0DwpelLUoodKPR85K7x"
   ]
  },
  {
   "cell_type": "code",
   "execution_count": 1,
   "metadata": {},
   "outputs": [
    {
     "name": "stderr",
     "output_type": "stream",
     "text": [
      "c:\\Users\\Danill\\AppData\\Local\\Programs\\Python\\Python37\\lib\\site-packages\\pydub\\utils.py:170: RuntimeWarning: Couldn't find ffmpeg or avconv - defaulting to ffmpeg, but may not work\n",
      "  warn(\"Couldn't find ffmpeg or avconv - defaulting to ffmpeg, but may not work\", RuntimeWarning)\n"
     ]
    },
    {
     "name": "stdout",
     "output_type": "stream",
     "text": [
      "d:\\STUDY\\Sirius\\git_repo\\MakeItTalkReplication\\notebooks\\..\\checkpoints\\audio\\ckpt_autovc.pth\n"
     ]
    }
   ],
   "source": [
    "from make_it_talk.models.audio_to_embedding import AudioToEmbedding\n",
    "import os\n",
    "\n",
    "# a = AudioToEmbedding('d:\\STUDY\\Sirius\\git_repo\\MakeItTalkReplication')\n",
    "a = AudioToEmbedding(os.path.join(os.getcwd(), '..'))\n"
   ]
  },
  {
   "cell_type": "code",
   "execution_count": 2,
   "metadata": {},
   "outputs": [
    {
     "name": "stdout",
     "output_type": "stream",
     "text": [
      "Loaded the voice encoder model on cpu in 0.03 seconds.\n"
     ]
    },
    {
     "name": "stderr",
     "output_type": "stream",
     "text": [
      "c:\\Users\\Danill\\AppData\\Local\\Programs\\Python\\Python37\\lib\\site-packages\\resemblyzer\\audio.py:33: FutureWarning: Pass orig_sr=44100, target_sr=16000 as keyword args. From version 0.10 passing these as positional arguments will result in an error\n",
      "  wav = librosa.resample(wav, source_sr, sampling_rate)\n",
      "c:\\Users\\Danill\\AppData\\Local\\Programs\\Python\\Python37\\lib\\site-packages\\resemblyzer\\audio.py:52: FutureWarning: Pass y=[-0.00245656 -0.00317972 -0.00303546 ...  0.          0.\n",
      "  0.        ], sr=16000 as keyword args. From version 0.10 passing these as positional arguments will result in an error\n",
      "  n_mels=mel_n_channels\n"
     ]
    }
   ],
   "source": [
    "spk_emb = a.get_speaker_embedding('D:\\STUDY\\Sirius\\\\barboskini.wav')"
   ]
  },
  {
   "cell_type": "code",
   "execution_count": 3,
   "metadata": {},
   "outputs": [
    {
     "name": "stderr",
     "output_type": "stream",
     "text": [
      "d:\\study\\sirius\\git_repo\\makeittalkreplication\\make_it_talk\\utils\\audio_utils.py:36: FutureWarning: Pass sr=16000, n_fft=1024 as keyword args. From version 0.10 passing these as positional arguments will result in an error\n",
      "  mel_basis = mel(16000, 1024, fmin=90, fmax=7600, n_mels=80).T\n"
     ]
    },
    {
     "name": "stdout",
     "output_type": "stream",
     "text": [
      "source shape: torch.Size([1, 4096, 80]) torch.Size([1, 256]) torch.Size([1, 256]) torch.Size([1, 4096, 257])\n",
      "source shape: torch.Size([1, 4096, 80]) torch.Size([1, 256]) torch.Size([1, 256]) torch.Size([1, 4096, 257])\n",
      "source shape: torch.Size([1, 4096, 80]) torch.Size([1, 256]) torch.Size([1, 256]) torch.Size([1, 4096, 257])\n",
      "source shape: torch.Size([1, 3904, 80]) torch.Size([1, 256]) torch.Size([1, 256]) torch.Size([1, 3904, 257])\n",
      "converted shape: torch.Size([1, 16192, 80]) torch.Size([1, 7808])\n"
     ]
    }
   ],
   "source": [
    "content_emb = a.convert_single_wav_to_autovc_input('D:\\STUDY\\Sirius\\\\barboskini.wav')"
   ]
  },
  {
   "cell_type": "code",
   "execution_count": 7,
   "metadata": {},
   "outputs": [
    {
     "data": {
      "text/plain": [
       "array([[ 2.3090267e-01,  1.3134716e-01,  5.3628784e-02, ...,\n",
       "        -2.1903440e-03,  6.2742718e-03, -1.5130714e-03],\n",
       "       [ 2.8274435e-01,  1.6150038e-01,  8.8986039e-02, ...,\n",
       "        -3.6014244e-05,  9.7403079e-03,  4.3537486e-03],\n",
       "       [ 3.0889589e-01,  1.7249206e-01,  9.4396919e-02, ...,\n",
       "         5.0889719e-03,  1.1148471e-02,  9.7575244e-03],\n",
       "       ...,\n",
       "       [ 2.9784903e-01,  1.5698983e-01,  8.2385778e-02, ...,\n",
       "         8.6131208e-03,  7.3696189e-03,  3.8031377e-03],\n",
       "       [ 2.8106639e-01,  1.3118356e-01,  5.2876044e-02, ...,\n",
       "         1.0167379e-02,  1.0090947e-02,  7.3606484e-03],\n",
       "       [ 2.6372102e-01,  1.2781635e-01,  5.1509388e-02, ...,\n",
       "         8.1101283e-03,  1.2182448e-02,  8.9654867e-03]], dtype=float32)"
      ]
     },
     "execution_count": 7,
     "metadata": {},
     "output_type": "execute_result"
    }
   ],
   "source": []
  },
  {
   "cell_type": "code",
   "execution_count": 4,
   "metadata": {},
   "outputs": [
    {
     "data": {
      "text/plain": [
       "'d:\\\\STUDY\\\\Sirius\\\\git_repo\\\\MakeItTalkReplication\\\\notebooks'"
      ]
     },
     "execution_count": 4,
     "metadata": {},
     "output_type": "execute_result"
    }
   ],
   "source": [
    "os.getcwd()"
   ]
  },
  {
   "cell_type": "code",
   "execution_count": null,
   "metadata": {},
   "outputs": [],
   "source": []
  }
 ],
 "metadata": {
  "kernelspec": {
   "display_name": "Python 3.7.9 64-bit",
   "language": "python",
   "name": "python3"
  },
  "language_info": {
   "codemirror_mode": {
    "name": "ipython",
    "version": 3
   },
   "file_extension": ".py",
   "mimetype": "text/x-python",
   "name": "python",
   "nbconvert_exporter": "python",
   "pygments_lexer": "ipython3",
   "version": "3.7.9"
  },
  "orig_nbformat": 4,
  "vscode": {
   "interpreter": {
    "hash": "a35fb83ac8e6ec7d775c8e4493051254ee64ddb3600bc3fef060a4811657ed17"
   }
  }
 },
 "nbformat": 4,
 "nbformat_minor": 2
}
