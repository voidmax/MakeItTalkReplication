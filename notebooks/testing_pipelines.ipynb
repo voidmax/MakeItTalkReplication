{
 "cells": [
  {
   "cell_type": "code",
   "execution_count": 1,
   "id": "881a2050",
   "metadata": {},
   "outputs": [
    {
     "name": "stderr",
     "output_type": "stream",
     "text": [
      "/Users/antonbeletsky/opt/anaconda3/lib/python3.9/site-packages/scipy/__init__.py:146: UserWarning: A NumPy version >=1.16.5 and <1.23.0 is required for this version of SciPy (detected version 1.23.4\n",
      "  warnings.warn(f\"A NumPy version >={np_minversion} and <{np_maxversion}\"\n",
      "/Users/antonbeletsky/opt/anaconda3/lib/python3.9/site-packages/pydub/utils.py:170: RuntimeWarning: Couldn't find ffmpeg or avconv - defaulting to ffmpeg, but may not work\n",
      "  warn(\"Couldn't find ffmpeg or avconv - defaulting to ffmpeg, but may not work\", RuntimeWarning)\n"
     ]
    }
   ],
   "source": [
    "from make_it_talk.models import *\n",
    "from make_it_talk.scripts import *"
   ]
  },
  {
   "cell_type": "code",
   "execution_count": 4,
   "id": "fe48e70a",
   "metadata": {},
   "outputs": [],
   "source": [
    "batch_size = 8\n",
    "time = 32\n",
    "h = 30\n",
    "w = 40\n",
    "audio_dim = 256\n",
    "\n",
    "init_pictures = torch.rand((batch_size, h, w))\n",
    "audios = torch.rand((batch_size, time, audio_dim))\n",
    "true_videos = torch.rand((batch_size, time, h, w))\n",
    "\n",
    "batch = (init_pictures, audios, true_videos)\n",
    "loader = [batch]"
   ]
  },
  {
   "cell_type": "code",
   "execution_count": 5,
   "id": "219d9eb9",
   "metadata": {},
   "outputs": [],
   "source": [
    "pipeline = make_talking_head_pipeline(\n",
    "    audio_to_embedding = AudioToEmbeddingPlug(audio_dim, 100, 101), # returns 100, 101\n",
    "    lstm_speech_content = LSTMSpeechContentPlug(100, 102),\n",
    "    lstm_speaker_aware = LSTMSpeakerAwarePlug(100, 103),\n",
    "    mlp_speaker_embedding = MLPSpeakerEmbeddingPlug(101, 104),\n",
    "    self_attention_encoder = SelfAttentionEncoderPlug(103 + 104, 105),\n",
    "    facial_landmarks_extractor = FacialLandmarksExtractorPlug(h, w),\n",
    "    mlp_speaker_aware = MLPSpeakerPlug(105 + 68*3, 68*3),\n",
    "    mlp_speech_content = MLPContentPlug(102 + 68*3, 68*3),\n",
    "    discriminator = DiscriminatorPlug(68*3, 103, 104)\n",
    ")"
   ]
  },
  {
   "cell_type": "code",
   "execution_count": 7,
   "id": "296f4b02",
   "metadata": {},
   "outputs": [],
   "source": [
    "#check that pipeline works\n",
    "\n",
    "device='cpu'\n",
    "\n",
    "pictures, audios, true_videos = batch\n",
    "\n",
    "audios = audios.to(device)\n",
    "pictures = pictures.to(device)\n",
    "true_videos = true_videos.to(device)\n",
    "\n",
    "predicted_landmarks, discriminator_input = pipeline(audios, pictures)\n",
    "\n",
    "realism = pipeline.discriminator(*discriminator_input)"
   ]
  },
  {
   "cell_type": "code",
   "execution_count": 9,
   "id": "2120c11e",
   "metadata": {},
   "outputs": [],
   "source": [
    "# check that train loop for content predictor works\n",
    "\n",
    "optimizer = torch.optim.Adam(params=pipeline.parameters(), lr=1e-6)\n",
    "loss_fn = (lambda x, y : (x + y).sum())\n",
    "metric_fn = (lambda x, y : (x + y).sum() * 10)\n",
    "\n",
    "log = train_content_landmarks_predictor(\n",
    "        talking_head_pipeline=pipeline,\n",
    "        optimizer=optimizer,\n",
    "        dataloader=loader,\n",
    "        n_epochs=30,\n",
    "        device=device,\n",
    "        loss_function=loss_fn,\n",
    "        metrics_list=[metric_fn],\n",
    "        training_log=None,\n",
    ")"
   ]
  },
  {
   "cell_type": "code",
   "execution_count": 11,
   "id": "965bc8f3",
   "metadata": {},
   "outputs": [
    {
     "data": {
      "text/plain": [
       "[<matplotlib.lines.Line2D at 0x7fea8d3f3cd0>]"
      ]
     },
     "execution_count": 11,
     "metadata": {},
     "output_type": "execute_result"
    },
    {
     "data": {
      "image/png": "[encoded data removed]",
      "text/plain": [
       "<Figure size 432x288 with 1 Axes>"
      ]
     },
     "metadata": {
      "needs_background": "light"
     },
     "output_type": "display_data"
    }
   ],
   "source": [
    "# check that loss drops with time\n",
    "losses = [l['loss'] for l in log]\n",
    "import matplotlib.pyplot as plt\n",
    "plt.plot(losses)"
   ]
  },
  {
   "cell_type": "code",
   "execution_count": null,
   "id": "b57983a7",
   "metadata": {},
   "outputs": [],
   "source": []
  }
 ],
 "metadata": {
  "kernelspec": {
   "display_name": "Python 3 (ipykernel)",
   "language": "python",
   "name": "python3"
  },
  "language_info": {
   "codemirror_mode": {
    "name": "ipython",
    "version": 3
   },
   "file_extension": ".py",
   "mimetype": "text/x-python",
   "name": "python",
   "nbconvert_exporter": "python",
   "pygments_lexer": "ipython3",
   "version": "3.9.12"
  }
 },
 "nbformat": 4,
 "nbformat_minor": 5
}
